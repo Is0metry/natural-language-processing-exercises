{
 "cells": [
  {
   "cell_type": "code",
   "execution_count": 142,
   "metadata": {},
   "outputs": [],
   "source": [
    "import numpy as np\n",
    "import pandas as pd\n",
    "import seaborn as sns\n",
    "import matplotlib.pyplot as plt\n",
    "from importlib import reload\n",
    "import warnings\n",
    "warnings.simplefilter(\"ignore\")\n",
    "%matplotlib inline\n",
    "%config InlineBackend.figure_format = 'retina'\n",
    "import re\n",
    "import regularexpressions as rex"
   ]
  },
  {
   "attachments": {},
   "cell_type": "markdown",
   "metadata": {},
   "source": [
    "Write a function named is_vowel. It should accept a string as input and use a regular expression to determine if the passed string is a vowel. While not explicity mentioned in the lesson, you can treat the result of re.search as a boolean value that indicates whether or not the regular expression matches the given string."
   ]
  },
  {
   "cell_type": "code",
   "execution_count": 143,
   "metadata": {},
   "outputs": [
    {
     "data": {
      "text/plain": [
       "False"
      ]
     },
     "execution_count": 143,
     "metadata": {},
     "output_type": "execute_result"
    }
   ],
   "source": [
    "reload(rex)\n",
    "rex.is_vowel('Ae')"
   ]
  },
  {
   "attachments": {},
   "cell_type": "markdown",
   "metadata": {},
   "source": [
    "Write a function named is_valid_username that accepts a string as input. A valid username starts with a lowercase letter, and only consists of lowercase letters, numbers, or the _ character. It should also be no longer than 32 characters. The function should return either True or False depending on whether the passed string is a valid username."
   ]
  },
  {
   "cell_type": "code",
   "execution_count": 144,
   "metadata": {},
   "outputs": [
    {
     "data": {
      "text/plain": [
       "False"
      ]
     },
     "execution_count": 144,
     "metadata": {},
     "output_type": "execute_result"
    }
   ],
   "source": [
    "reload(rex)\n",
    "rex.is_valid_username('1codeup1')"
   ]
  },
  {
   "attachments": {},
   "cell_type": "markdown",
   "metadata": {},
   "source": [
    "Write a regular expression to capture phone numbers. It should match all of the following:\n",
    "\n",
    "(210) 867 5309\n",
    "\n",
    "+1 210.867.5309\n",
    "\n",
    "867-5309\n",
    "\n",
    "210-867-5309"
   ]
  },
  {
   "cell_type": "code",
   "execution_count": 147,
   "metadata": {},
   "outputs": [
    {
     "name": "stdout",
     "output_type": "stream",
     "text": [
      "2108675309\n",
      "2108675309\n",
      "8675309\n",
      "2108675309\n"
     ]
    }
   ],
   "source": [
    "reload(rex)\n",
    "print(rex.get_phone_number('(210) 867 5309'))\n",
    "print(rex.get_phone_number('+1 210.867.5309'))\n",
    "print(rex.get_phone_number('867-5309'))\n",
    "print(rex.get_phone_number('210-867-5309'))"
   ]
  },
  {
   "attachments": {},
   "cell_type": "markdown",
   "metadata": {},
   "source": [
    "Use regular expressions to convert the dates below to the standardized year-month-day format.\n",
    "\n",
    "02/04/19\n",
    "\n",
    "02/05/19\n",
    "\n",
    "02/06/19\n",
    "\n",
    "02/07/19\n",
    "\n",
    "02/08/19\n",
    "\n",
    "02/09/19\n",
    "\n",
    "02/10/19\n"
   ]
  },
  {
   "cell_type": "code",
   "execution_count": 150,
   "metadata": {},
   "outputs": [
    {
     "name": "stdout",
     "output_type": "stream",
     "text": [
      "04 February 2019\n",
      "05 February 2019\n",
      "06 February 2019\n",
      "07 February 2019\n",
      "08 February 2019\n",
      "09 February 2019\n",
      "10 February 2019\n"
     ]
    }
   ],
   "source": [
    "reload(rex)\n",
    "print(rex.get_date('02/04/19'))\n",
    "print(rex.get_date('02/05/19'))\n",
    "print(rex.get_date('02/06/19'))\n",
    "print(rex.get_date('02/07/19'))\n",
    "print(rex.get_date('02/08/19'))\n",
    "print(rex.get_date('02/09/19'))\n",
    "print(rex.get_date('02/10/19'))"
   ]
  },
  {
   "attachments": {},
   "cell_type": "markdown",
   "metadata": {},
   "source": [
    "Write a regex to extract the various parts of these logfile lines:\n",
    "\n",
    "GET /api/v1/sales?page=86 [16/Apr/2019:193452+0000] HTTP/1.1 {200} 510348 \"python-requests/2.21.0\" 97.105.19.58\n",
    "\n",
    "POST /users_accounts/file-upload [16/Apr/2019:193452+0000] HTTP/1.1 {201} 42 \"User-Agent: Mozilla/5.0 (X11; Fedora; Fedora; Linux x86_64) AppleWebKit/537.36 (KHTML, like Gecko) Chrome/73.0.3683.86 Safari/537.36\" 97.105.19.58\n",
    "\n",
    "GET /api/v1/items?page=3 [16/Apr/2019:193453+0000] HTTP/1.1 {429} 3561 \"python-requests/2.21.0\" 97.105.19.58\n"
   ]
  },
  {
   "cell_type": "code",
   "execution_count": null,
   "metadata": {},
   "outputs": [],
   "source": []
  }
 ],
 "metadata": {
  "kernelspec": {
   "display_name": "codeup",
   "language": "python",
   "name": "python3"
  },
  "language_info": {
   "codemirror_mode": {
    "name": "ipython",
    "version": 3
   },
   "file_extension": ".py",
   "mimetype": "text/x-python",
   "name": "python",
   "nbconvert_exporter": "python",
   "pygments_lexer": "ipython3",
   "version": "3.11.0"
  },
  "orig_nbformat": 4,
  "vscode": {
   "interpreter": {
    "hash": "653f3b7eb86bda3113d2d1f85ae6ed711e8a2906aba868c97a03afd554718a6e"
   }
  }
 },
 "nbformat": 4,
 "nbformat_minor": 2
}
