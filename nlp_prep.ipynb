{
 "cells": [
  {
   "cell_type": "code",
   "execution_count": 1,
   "metadata": {},
   "outputs": [],
   "source": [
    "import warnings\n",
    "from importlib import reload\n",
    "\n",
    "import matplotlib.pyplot as plt\n",
    "import numpy as np\n",
    "import pandas as pd\n",
    "import seaborn as sns\n",
    "\n",
    "import acquire as a\n",
    "import prepare as p\n",
    "\n",
    "warnings.simplefilter(\"ignore\")\n",
    "%matplotlib inline\n",
    "%config InlineBackend.figure_format = 'retina'"
   ]
  },
  {
   "cell_type": "code",
   "execution_count": 2,
   "metadata": {},
   "outputs": [
    {
     "data": {
      "text/plain": [
       "'The Lïfè of the WiFe \\n\\n is ENDED by the knïfe 😖'"
      ]
     },
     "execution_count": 2,
     "metadata": {},
     "output_type": "execute_result"
    }
   ],
   "source": [
    "bling = \"The Lïfè of the WiFe \\n\\n is ENDED by the knïfe 😖\"\n",
    "bling"
   ]
  },
  {
   "cell_type": "code",
   "execution_count": 3,
   "metadata": {},
   "outputs": [
    {
     "data": {
      "text/plain": [
       "'the life of the wife \\n\\n is ended by the knife '"
      ]
     },
     "execution_count": 3,
     "metadata": {},
     "output_type": "execute_result"
    }
   ],
   "source": [
    "reload(p)\n",
    "bling = p.basic_clean(bling)\n",
    "bling"
   ]
  },
  {
   "cell_type": "code",
   "execution_count": 4,
   "metadata": {},
   "outputs": [
    {
     "data": {
      "text/plain": [
       "'the life of the wife \\n\\n is ended by the knife'"
      ]
     },
     "execution_count": 4,
     "metadata": {},
     "output_type": "execute_result"
    }
   ],
   "source": [
    "reload(p)\n",
    "bling = p.tokenize(bling)\n",
    "bling"
   ]
  },
  {
   "cell_type": "code",
   "execution_count": 5,
   "metadata": {},
   "outputs": [
    {
     "data": {
      "text/plain": [
       "'the life of the wife is end by the knife'"
      ]
     },
     "execution_count": 5,
     "metadata": {},
     "output_type": "execute_result"
    }
   ],
   "source": [
    "reload(p)\n",
    "stemmed_bling = p.stem(bling)\n",
    "stemmed_bling"
   ]
  },
  {
   "cell_type": "code",
   "execution_count": 6,
   "metadata": {},
   "outputs": [
    {
     "data": {
      "text/plain": [
       "'the life of the wife is ended by the knife'"
      ]
     },
     "execution_count": 6,
     "metadata": {},
     "output_type": "execute_result"
    }
   ],
   "source": [
    "reload(p)\n",
    "lemmed_bling = p.lemmatize(bling)\n",
    "lemmed_bling"
   ]
  },
  {
   "cell_type": "code",
   "execution_count": 7,
   "metadata": {},
   "outputs": [
    {
     "data": {
      "text/plain": [
       "'life wife ended knife'"
      ]
     },
     "execution_count": 7,
     "metadata": {},
     "output_type": "execute_result"
    }
   ],
   "source": [
    "reload(p)\n",
    "no_stops = p.remove_stopwords(lemmed_bling)\n",
    "no_stops"
   ]
  },
  {
   "cell_type": "code",
   "execution_count": 19,
   "metadata": {},
   "outputs": [],
   "source": [
    "reload(a)\n",
    "codeup_df = a.get_blog_df()\n",
    "inshort_df = a.get_article_df()\n"
   ]
  },
  {
   "attachments": {},
   "cell_type": "markdown",
   "metadata": {},
   "source": [
    "For each dataframe, produce the following columns:\n",
    "\n",
    "title to hold the title\n",
    "\n",
    "original to hold the original article/post content\n",
    "\n",
    "clean to hold the normalized and tokenized original with the stopwords removed.\n",
    "\n",
    "stemmed to hold the stemmed version of the cleaned data.\n",
    "\n",
    "lemmatized to hold the lemmatized version of the cleaned data."
   ]
  },
  {
   "cell_type": "code",
   "execution_count": 24,
   "metadata": {},
   "outputs": [
    {
     "data": {
      "text/html": [
       "<div>\n",
       "<style scoped>\n",
       "    .dataframe tbody tr th:only-of-type {\n",
       "        vertical-align: middle;\n",
       "    }\n",
       "\n",
       "    .dataframe tbody tr th {\n",
       "        vertical-align: top;\n",
       "    }\n",
       "\n",
       "    .dataframe thead th {\n",
       "        text-align: right;\n",
       "    }\n",
       "</style>\n",
       "<table border=\"1\" class=\"dataframe\">\n",
       "  <thead>\n",
       "    <tr style=\"text-align: right;\">\n",
       "      <th></th>\n",
       "      <th>title</th>\n",
       "      <th>content</th>\n",
       "      <th>clean</th>\n",
       "      <th>stemmed</th>\n",
       "      <th>lemmatized</th>\n",
       "    </tr>\n",
       "  </thead>\n",
       "  <tbody>\n",
       "    <tr>\n",
       "      <th>0</th>\n",
       "      <td>What is the Future of Data Science? - Codeup</td>\n",
       "      <td>\\nIf you’re considering changing careers, you ...</td>\n",
       "      <td>youre considering changing careers probably wa...</td>\n",
       "      <td>your consid chang career probabl want ensur ne...</td>\n",
       "      <td>youre considering changing career probably wan...</td>\n",
       "    </tr>\n",
       "    <tr>\n",
       "      <th>1</th>\n",
       "      <td>Codeup is Accredited! - Codeup</td>\n",
       "      <td>\\nAfter eight years of operation, Codeup is th...</td>\n",
       "      <td>eight years operation codeup first accredited ...</td>\n",
       "      <td>eight year oper codeup first accredit bootcamp...</td>\n",
       "      <td>eight year operation codeup first accredited b...</td>\n",
       "    </tr>\n",
       "    <tr>\n",
       "      <th>2</th>\n",
       "      <td>Why Dallas is a Great Location for IT Professi...</td>\n",
       "      <td>\\nWhen breaking into a new career, it is impor...</td>\n",
       "      <td>breaking new career important explore job oppo...</td>\n",
       "      <td>break new career import explor job opportun ex...</td>\n",
       "      <td>breaking new career important explore job oppo...</td>\n",
       "    </tr>\n",
       "    <tr>\n",
       "      <th>3</th>\n",
       "      <td>Diversity Equity and Inclusion Report - Codeup</td>\n",
       "      <td>\\nCodeup is excited to launch our first Divers...</td>\n",
       "      <td>codeup excited launch first diversity equity i...</td>\n",
       "      <td>codeup excit launch first divers equiti inclus...</td>\n",
       "      <td>codeup excited launch first diversity equity i...</td>\n",
       "    </tr>\n",
       "    <tr>\n",
       "      <th>4</th>\n",
       "      <td>What Jobs Can You Get After a Coding Bootcamp?</td>\n",
       "      <td>\\nIf you are interested in embarking on a care...</td>\n",
       "      <td>interested embarking career tech youre probabl...</td>\n",
       "      <td>interest embark career tech your probabl wonde...</td>\n",
       "      <td>interested embarking career tech youre probabl...</td>\n",
       "    </tr>\n",
       "  </tbody>\n",
       "</table>\n",
       "</div>"
      ],
      "text/plain": [
       "                                               title  \\\n",
       "0       What is the Future of Data Science? - Codeup   \n",
       "1                     Codeup is Accredited! - Codeup   \n",
       "2  Why Dallas is a Great Location for IT Professi...   \n",
       "3     Diversity Equity and Inclusion Report - Codeup   \n",
       "4     What Jobs Can You Get After a Coding Bootcamp?   \n",
       "\n",
       "                                             content  \\\n",
       "0  \\nIf you’re considering changing careers, you ...   \n",
       "1  \\nAfter eight years of operation, Codeup is th...   \n",
       "2  \\nWhen breaking into a new career, it is impor...   \n",
       "3  \\nCodeup is excited to launch our first Divers...   \n",
       "4  \\nIf you are interested in embarking on a care...   \n",
       "\n",
       "                                               clean  \\\n",
       "0  youre considering changing careers probably wa...   \n",
       "1  eight years operation codeup first accredited ...   \n",
       "2  breaking new career important explore job oppo...   \n",
       "3  codeup excited launch first diversity equity i...   \n",
       "4  interested embarking career tech youre probabl...   \n",
       "\n",
       "                                             stemmed  \\\n",
       "0  your consid chang career probabl want ensur ne...   \n",
       "1  eight year oper codeup first accredit bootcamp...   \n",
       "2  break new career import explor job opportun ex...   \n",
       "3  codeup excit launch first divers equiti inclus...   \n",
       "4  interest embark career tech your probabl wonde...   \n",
       "\n",
       "                                          lemmatized  \n",
       "0  youre considering changing career probably wan...  \n",
       "1  eight year operation codeup first accredited b...  \n",
       "2  breaking new career important explore job oppo...  \n",
       "3  codeup excited launch first diversity equity i...  \n",
       "4  interested embarking career tech youre probabl...  "
      ]
     },
     "execution_count": 24,
     "metadata": {},
     "output_type": "execute_result"
    }
   ],
   "source": [
    "codeup_df['clean'] = codeup_df.content.apply(p.squeaky_clean)\n",
    "codeup_df['stemmed'] = codeup_df.clean.apply(p.stem)\n",
    "codeup_df['lemmatized'] = codeup_df.clean.apply(p.lemmatize)\n",
    "codeup_df.head()\n"
   ]
  },
  {
   "cell_type": "code",
   "execution_count": 27,
   "metadata": {},
   "outputs": [
    {
     "data": {
      "text/html": [
       "<div>\n",
       "<style scoped>\n",
       "    .dataframe tbody tr th:only-of-type {\n",
       "        vertical-align: middle;\n",
       "    }\n",
       "\n",
       "    .dataframe tbody tr th {\n",
       "        vertical-align: top;\n",
       "    }\n",
       "\n",
       "    .dataframe thead th {\n",
       "        text-align: right;\n",
       "    }\n",
       "</style>\n",
       "<table border=\"1\" class=\"dataframe\">\n",
       "  <thead>\n",
       "    <tr style=\"text-align: right;\">\n",
       "      <th></th>\n",
       "      <th>Unnamed: 0</th>\n",
       "      <th>category</th>\n",
       "      <th>content</th>\n",
       "      <th>headline</th>\n",
       "      <th>clean</th>\n",
       "      <th>stemmed</th>\n",
       "      <th>lemmatized</th>\n",
       "    </tr>\n",
       "  </thead>\n",
       "  <tbody>\n",
       "    <tr>\n",
       "      <th>0</th>\n",
       "      <td>0</td>\n",
       "      <td>business</td>\n",
       "      <td>A drunk passenger smoked in the toilet on a Pa...</td>\n",
       "      <td>Drunk man smoked in toilet, another peed on wo...</td>\n",
       "      <td>drunk passenger smoked toilet parisdelhi air i...</td>\n",
       "      <td>drunk passeng smoke toilet parisdelhi air indi...</td>\n",
       "      <td>drunk passenger smoked toilet parisdelhi air i...</td>\n",
       "    </tr>\n",
       "    <tr>\n",
       "      <th>1</th>\n",
       "      <td>1</td>\n",
       "      <td>business</td>\n",
       "      <td>RS Sodhi, who has been the Managing Director o...</td>\n",
       "      <td>RS Sodhi steps down as Amul's Managing Directo...</td>\n",
       "      <td>rs sodhi managing director amul 12 years stepp...</td>\n",
       "      <td>rs sodhi manag director amul 12 year step role...</td>\n",
       "      <td>r sodhi managing director amul 12 year stepped...</td>\n",
       "    </tr>\n",
       "    <tr>\n",
       "      <th>2</th>\n",
       "      <td>2</td>\n",
       "      <td>business</td>\n",
       "      <td>Tata Consultancy Services (TCS) reported a fal...</td>\n",
       "      <td>TCS' attrition rate falls for first time in 7 ...</td>\n",
       "      <td>tata consultancy services tcs reported fall at...</td>\n",
       "      <td>tata consult servic tc report fall attrit rate...</td>\n",
       "      <td>tata consultancy service tc reported fall attr...</td>\n",
       "    </tr>\n",
       "    <tr>\n",
       "      <th>3</th>\n",
       "      <td>3</td>\n",
       "      <td>business</td>\n",
       "      <td>Elon Musk has officially broken the world reco...</td>\n",
       "      <td>Musk enters Guinness World Records for the lar...</td>\n",
       "      <td>elon musk officially broken world record large...</td>\n",
       "      <td>elon musk offici broken world record largest l...</td>\n",
       "      <td>elon musk officially broken world record large...</td>\n",
       "    </tr>\n",
       "    <tr>\n",
       "      <th>4</th>\n",
       "      <td>4</td>\n",
       "      <td>business</td>\n",
       "      <td>Vistara's flight UK 781 operating from Delhi t...</td>\n",
       "      <td>Vistara's Bhubaneswar-bound flight returns to ...</td>\n",
       "      <td>vistara ' flight uk 781 operating delhi bhuban...</td>\n",
       "      <td>vistara ' flight uk 781 oper delhi bhubaneswar...</td>\n",
       "      <td>vistara ' flight uk 781 operating delhi bhuban...</td>\n",
       "    </tr>\n",
       "  </tbody>\n",
       "</table>\n",
       "</div>"
      ],
      "text/plain": [
       "   Unnamed: 0  category                                            content  \\\n",
       "0           0  business  A drunk passenger smoked in the toilet on a Pa...   \n",
       "1           1  business  RS Sodhi, who has been the Managing Director o...   \n",
       "2           2  business  Tata Consultancy Services (TCS) reported a fal...   \n",
       "3           3  business  Elon Musk has officially broken the world reco...   \n",
       "4           4  business  Vistara's flight UK 781 operating from Delhi t...   \n",
       "\n",
       "                                            headline  \\\n",
       "0  Drunk man smoked in toilet, another peed on wo...   \n",
       "1  RS Sodhi steps down as Amul's Managing Directo...   \n",
       "2  TCS' attrition rate falls for first time in 7 ...   \n",
       "3  Musk enters Guinness World Records for the lar...   \n",
       "4  Vistara's Bhubaneswar-bound flight returns to ...   \n",
       "\n",
       "                                               clean  \\\n",
       "0  drunk passenger smoked toilet parisdelhi air i...   \n",
       "1  rs sodhi managing director amul 12 years stepp...   \n",
       "2  tata consultancy services tcs reported fall at...   \n",
       "3  elon musk officially broken world record large...   \n",
       "4  vistara ' flight uk 781 operating delhi bhuban...   \n",
       "\n",
       "                                             stemmed  \\\n",
       "0  drunk passeng smoke toilet parisdelhi air indi...   \n",
       "1  rs sodhi manag director amul 12 year step role...   \n",
       "2  tata consult servic tc report fall attrit rate...   \n",
       "3  elon musk offici broken world record largest l...   \n",
       "4  vistara ' flight uk 781 oper delhi bhubaneswar...   \n",
       "\n",
       "                                          lemmatized  \n",
       "0  drunk passenger smoked toilet parisdelhi air i...  \n",
       "1  r sodhi managing director amul 12 year stepped...  \n",
       "2  tata consultancy service tc reported fall attr...  \n",
       "3  elon musk officially broken world record large...  \n",
       "4  vistara ' flight uk 781 operating delhi bhuban...  "
      ]
     },
     "execution_count": 27,
     "metadata": {},
     "output_type": "execute_result"
    }
   ],
   "source": [
    "inshort_df['clean'] = inshort_df.content.apply(p.squeaky_clean)\n",
    "inshort_df['stemmed'] = inshort_df.clean.apply(p.stem)\n",
    "inshort_df['lemmatized'] = inshort_df.clean.apply(p.lemmatize)\n",
    "inshort_df.head()"
   ]
  }
 ],
 "metadata": {
  "kernelspec": {
   "display_name": "codeup",
   "language": "python",
   "name": "python3"
  },
  "language_info": {
   "codemirror_mode": {
    "name": "ipython",
    "version": 3
   },
   "file_extension": ".py",
   "mimetype": "text/x-python",
   "name": "python",
   "nbconvert_exporter": "python",
   "pygments_lexer": "ipython3",
   "version": "3.11.0 | packaged by conda-forge | (main, Oct 25 2022, 06:24:51) [Clang 14.0.4 ]"
  },
  "orig_nbformat": 4,
  "vscode": {
   "interpreter": {
    "hash": "653f3b7eb86bda3113d2d1f85ae6ed711e8a2906aba868c97a03afd554718a6e"
   }
  }
 },
 "nbformat": 4,
 "nbformat_minor": 2
}
